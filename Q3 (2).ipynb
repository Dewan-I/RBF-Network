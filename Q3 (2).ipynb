{
  "nbformat": 4,
  "nbformat_minor": 0,
  "metadata": {
    "colab": {
      "name": "Q3.ipynb",
      "provenance": [],
      "collapsed_sections": [],
      "toc_visible": true
    },
    "kernelspec": {
      "name": "python3",
      "display_name": "Python 3"
    },
    "language_info": {
      "name": "python"
    }
  },
  "cells": [
    {
      "cell_type": "code",
      "metadata": {
        "id": "oR6zo5ABQ0ua"
      },
      "source": [
        "import pandas as pd\n",
        "import numpy as np\n",
        "import random\n",
        "import time\n",
        "from sklearn.cluster import KMeans\n",
        "import matplotlib.pyplot as plt"
      ],
      "execution_count": null,
      "outputs": []
    },
    {
      "cell_type": "code",
      "metadata": {
        "id": "5ExnLtRIRkny"
      },
      "source": [
        "#creating a class for RBF network \n",
        "class RBF(object):\n",
        "    #Referencing https://pythonmachinelearning.pro/using-neural-networks-for-regression-radial-basis-function-networks/\n",
        "    #We start out by creating a class that has encompasses an RBF with k rbf units, sigma values, randomized weights, and centroids v\n",
        "    def __init__(self, k, sigma):\n",
        "        self.k = k  #k is the number of neurons in the hidden layer\n",
        "        self.sigma = sigma\n",
        "        #We initialize the weights at random between -1 and 1 for every unit in the hidden layer\n",
        "        w = []\n",
        "        for i in range(k):\n",
        "          w.append(random.uniform(-1, 1))\n",
        "        self.weights = w \n",
        "        #The centroids v(i) are defined to be empty at first because we want to change this assignment depending on the method used\n",
        "        self.v = None\n",
        "        \n",
        "    #function that is used to calculate the G variable used for actvation within the hidden layer\n",
        "\n",
        "    def Calculating_activation(self,x):\n",
        "        p = x.shape[0] #This gives you the size of the testing or training set\n",
        "\n",
        "        #G is the PHI matrix for the RBF functions for every input and value in hidden layer initialized to seros to set the size\n",
        "        G = np.zeros((p,self.k)) \n",
        "        #We then loop for each input and take the radial activations for each neuron and add it to the PHI matrix\n",
        "        for i in range(0,p):\n",
        "            for j in range(0,self.k): \n",
        "                G[i,j] = np.exp((-1/(2*self.sigma**2))*np.linalg.norm(x[i]-self.v[j])**2)\n",
        "                #linalg norm 2 is the euclidean distance beteween x and the centers vi\n",
        "        return G\n",
        "\n",
        "    #creating function that will calculate the mean square error\n",
        "    def MSE_calculation_accuracy(self,x,y):\n",
        "        overall = 0\n",
        "        n = len(y)\n",
        "\n",
        "        G = self.Calculating_activation(x)  \n",
        "        pred = np.dot(G,self.weights) #Y = G*W which is the predicted values\n",
        "        pred = np.sign(pred) #The sign function encodes the predicted output to -1, 0, and 1\n",
        "        \n",
        "        for i in range(n):\n",
        "          if (y[i] == 1 and pred[i] >=0 ) or (y[i] == -1 and pred[i] <0):\n",
        "            overall = overall +1\n",
        "\n",
        "        return (overall/n)\n",
        "\n",
        "    #funciton to update weights when the centers are set to the input\n",
        "    def updating_weights(self, x, y):\n",
        "      self.v = x #fix centroids to be the inputs\n",
        "      G = self.Calculating_activation(x) #get Phi matrix\n",
        "      self.weights = np.dot(np.linalg.pinv(G),y) #W= G+ * Y where pinv is the pseudo inverse matrix of G, which is multiplied by y to obtain W following \n",
        "      return\n",
        "\n",
        "    #funciton to update weights when the centers are set to randomly chosen\n",
        "    def updating_weights_random_input(self,x,y):\n",
        "      p = x.shape[0] #get the size of the input array\n",
        "      self.v = x[np.random.choice(p,self.k)] #set the centers to be equal to an input at a random number between 0 and the number of inputs\n",
        "      G = self.Calculating_activation(x) #get the Phi matrix\n",
        "      self.weights = np.dot(np.linalg.pinv(G),y) #W= G+ * Y where pinv is the pseudo inverse matrix of G, which is multiplied by y to obtain W following \n",
        "      return\n",
        "    \n",
        "    ##funciton to update weights when the centers are set to the kmeans ouput\n",
        "    def updating_weights_kmeans(self,x,y):\n",
        "      value_kmeans = KMeans(n_clusters= self.k, random_state= 0).fit(x) #Here the learning is unsupervised so we just need to fit the data to the already provided model\n",
        "      #The cluster_centers_ is an object from the KMeans library that contains the centroids returned by the model\n",
        "      self.v = value_kmeans.cluster_centers_ #fix centroids to be the ones returned by KMeans\n",
        "      G = self.Calculating_activation(x) #get the Phi matrix\n",
        "      self.weights = np.dot(np.linalg.pinv(G),y) #W= G+ * Y where pinv is the pseudo inverse matrix of G, which is multiplied by y to obtain W following \n",
        "      return\n",
        "\n",
        "    def __del__(self):\n",
        "        self.weights = None\n",
        "        self.v = None\n",
        "\n",
        "\n"
      ],
      "execution_count": null,
      "outputs": []
    },
    {
      "cell_type": "code",
      "metadata": {
        "id": "BQoOWpbfR7VE"
      },
      "source": [
        "#creating the dataset to then perform K means on\n",
        "N_inputs = 441\n",
        "\n",
        "#creating matrix to hold the x inputs\n",
        "x = []\n",
        "\n",
        "#creating all 441 randomly sampled data points defined as x = (xi,xj)\n",
        "\n",
        "#NOTE: could change the method to which we create the input and output matrixes\n",
        "for i in range(0, 21):\n",
        "    for j in range(0,21):\n",
        "        x.append([-2 + 0.2*i, -2+0.2*j])\n",
        "\n",
        "#creating the respective label that should go with a given input\n",
        "for i in range(0,N_inputs):\n",
        "    output = (x[i][0]**2 + x[i][1]**2)\n",
        "    if (output <= 1):\n",
        "        x[i].append(1)\n",
        "    else:\n",
        "        x[i].append(-1)\n",
        "\n",
        "#defind the establish training set as a numpy array\n",
        "x = np.array(x)"
      ],
      "execution_count": null,
      "outputs": []
    },
    {
      "cell_type": "code",
      "metadata": {
        "id": "XY0jlmfKU0Tw"
      },
      "source": [
        "#splitting the data 80:20\n",
        "np.random.seed(1)\n",
        "np.random.shuffle(x)\n",
        "\n",
        "train,test = x[int(N_inputs*0.2):],x[:int(N_inputs*0.2)]\n",
        "\n",
        "#seperate the labels and the points\n",
        "train_x = train[:,:-1]\n",
        "test_x = test[:,:-1]\n",
        "\n",
        "train_y  = train[:,-1:]\n",
        "test_y = test[:,-1:]\n",
        "\n",
        "sigmas = [0.05,0.1,0.2, 0.4, 0.8, 1.0, 2.0, 4.0, 8.0, 16.0, 32.0 , 64.0 , 128.0, 256.0]\n",
        "\n",
        "#part 1\n",
        "train_accuracy_list_full = []\n",
        "accuracy_list_full = []\n",
        "\n",
        "#part 2 a\n",
        "train_accuracy_list_random = []\n",
        "accuracy_list_random = []\n",
        "\n",
        "#part 2 b\n",
        "train_accuracy_list_kmeans = []\n",
        "accuracy_list_kmeans = []\n",
        "\n",
        "\n",
        "#NOTE FOR BELOW: CAN WE CONDNESE ALL THREE FUNCTIONS INTO ONE AND SPIT OUT 3 DIFFERNET PLOTS?\n"
      ],
      "execution_count": null,
      "outputs": []
    },
    {
      "cell_type": "code",
      "metadata": {
        "id": "6G8WtTEm5pER"
      },
      "source": [
        "def Part1():\n",
        "  #performing RBF with all training datapoints as the centers\n",
        "  for i in sigmas:\n",
        "    rbf_full_data = RBF(k = 353, sigma = i)\n",
        "\n",
        "    rbf_full_data.updating_weights(train_x,train_y)\n",
        "    acc_1 = rbf_full_data.MSE_calculation_accuracy(train_x,train_y)\n",
        "    acc_2 = rbf_full_data.MSE_calculation_accuracy(test_x,test_y)\n",
        "\n",
        "    train_accuracy_list_full.append(acc_1) \n",
        "    accuracy_list_full.append(acc_2) \n",
        "    del rbf_full_data\n",
        "\n",
        "Part1()\n"
      ],
      "execution_count": null,
      "outputs": []
    },
    {
      "cell_type": "code",
      "metadata": {
        "id": "ll5r3f0KLgv4"
      },
      "source": [
        "def Part2_random():\n",
        "  #performing RBF with all training datapoints as the centers\n",
        "  for i in sigmas:\n",
        "    rbf_full_data = RBF(k = 150, sigma = i) #create object for RBF in order to create center, \n",
        "\n",
        "    rbf_full_data.updating_weights_random_input(train_x,train_y )\n",
        "    acc_1 = rbf_full_data.MSE_calculation_accuracy(train_x,train_y)\n",
        "    acc_2 = rbf_full_data.MSE_calculation_accuracy(test_x,test_y)\n",
        "\n",
        "\n",
        "    train_accuracy_list_random.append(acc_1) \n",
        "    accuracy_list_random.append(acc_2) \n",
        "    del rbf_full_data\n",
        "\n",
        "Part2_random()"
      ],
      "execution_count": null,
      "outputs": []
    },
    {
      "cell_type": "code",
      "metadata": {
        "id": "zuZBLtWJMtOL"
      },
      "source": [
        "def Part2_kmeans():\n",
        "  #performing RBF with all training datapoints as the centers\n",
        "  for i in sigmas:\n",
        "    rbf_full_data = RBF(k = 150, sigma = i)\n",
        "\n",
        "    rbf_full_data.updating_weights_kmeans(train_x,train_y )\n",
        "    acc_1 = rbf_full_data.MSE_calculation_accuracy(train_x,train_y)\n",
        "    acc_2 = rbf_full_data.MSE_calculation_accuracy(test_x,test_y)\n",
        "\n",
        "\n",
        "    train_accuracy_list_kmeans.append(acc_1) \n",
        "    accuracy_list_kmeans.append(acc_2) \n",
        "    del rbf_full_data\n",
        "\n",
        "Part2_kmeans()"
      ],
      "execution_count": null,
      "outputs": []
    },
    {
      "cell_type": "code",
      "metadata": {
        "id": "kmN3QWvc5rZJ",
        "colab": {
          "base_uri": "https://localhost:8080/",
          "height": 313
        },
        "outputId": "8b2b8283-a476-4862-d368-39011f16f915"
      },
      "source": [
        "plt.plot(sigmas,train_accuracy_list_full,marker='.', color = 'cyan',label=\"all centroid/point usage\")\n",
        "plt.xlabel('sigma')\n",
        "plt.ylabel('Accuracy')\n",
        "plt.title('train accuracy using all points as centers')\n",
        "plt.legend()\n",
        "plt.show"
      ],
      "execution_count": null,
      "outputs": [
        {
          "output_type": "execute_result",
          "data": {
            "text/plain": [
              "<function matplotlib.pyplot.show>"
            ]
          },
          "metadata": {
            "tags": []
          },
          "execution_count": 29
        },
        {
          "output_type": "display_data",
          "data": {
            "image/png": "[encoded data removed]",
            "text/plain": [
              "<Figure size 432x288 with 1 Axes>"
            ]
          },
          "metadata": {
            "tags": [],
            "needs_background": "light"
          }
        }
      ]
    },
    {
      "cell_type": "code",
      "metadata": {
        "id": "_ko2zPuq6Gt_",
        "colab": {
          "base_uri": "https://localhost:8080/",
          "height": 313
        },
        "outputId": "bd8d526d-2428-4296-df7a-f8b4bb0b8a87"
      },
      "source": [
        "plt.plot(sigmas,accuracy_list_full,marker='.', color = 'cyan',label=\"all centroid/point usage\")\n",
        "plt.xlabel('sigma')\n",
        "plt.ylabel('Accuracy')\n",
        "plt.title('test accuracy using all points as centers')\n",
        "plt.legend()\n",
        "plt.show"
      ],
      "execution_count": null,
      "outputs": [
        {
          "output_type": "execute_result",
          "data": {
            "text/plain": [
              "<function matplotlib.pyplot.show>"
            ]
          },
          "metadata": {
            "tags": []
          },
          "execution_count": 30
        },
        {
          "output_type": "display_data",
          "data": {
            "image/png": "[encoded data removed]",
            "text/plain": [
              "<Figure size 432x288 with 1 Axes>"
            ]
          },
          "metadata": {
            "tags": [],
            "needs_background": "light"
          }
        }
      ]
    },
    {
      "cell_type": "code",
      "metadata": {
        "id": "YPmyj29_9fQb"
      },
      "source": [
        ""
      ],
      "execution_count": null,
      "outputs": []
    },
    {
      "cell_type": "code",
      "metadata": {
        "id": "lw55nYDAM7Xt",
        "colab": {
          "base_uri": "https://localhost:8080/",
          "height": 313
        },
        "outputId": "dc12469f-7dff-419a-dda3-8f3f3b821c92"
      },
      "source": [
        "#plot\n",
        "plt.plot(sigmas,train_accuracy_list_full,marker='.',color = 'cyan',label=\"all centroids\")\n",
        "plt.plot(sigmas,train_accuracy_list_random,marker='.', color = 'green',label=\"random chosing of centroids\")\n",
        "plt.plot(sigmas,train_accuracy_list_kmeans,marker='.', color = 'red', label=\"kmeans centroids\")\n",
        "\n",
        "plt.xlabel('sigma')\n",
        "plt.ylabel('Accuracy')\n",
        "plt.title('Train accuracy for all three parts together')\n",
        "plt.legend()\n",
        "plt.show"
      ],
      "execution_count": null,
      "outputs": [
        {
          "output_type": "execute_result",
          "data": {
            "text/plain": [
              "<function matplotlib.pyplot.show>"
            ]
          },
          "metadata": {
            "tags": []
          },
          "execution_count": 31
        },
        {
          "output_type": "display_data",
          "data": {
            "image/png": "[encoded data removed]",
            "text/plain": [
              "<Figure size 432x288 with 1 Axes>"
            ]
          },
          "metadata": {
            "tags": [],
            "needs_background": "light"
          }
        }
      ]
    },
    {
      "cell_type": "code",
      "metadata": {
        "id": "n5zlhdkqR0Fm",
        "colab": {
          "base_uri": "https://localhost:8080/",
          "height": 313
        },
        "outputId": "e4b16c75-a200-4a5e-ed63-2f10ff02660a"
      },
      "source": [
        "#plot\n",
        "plt.plot(sigmas,accuracy_list_full,marker='.', color = 'cyan',label=\"all centroids\")\n",
        "plt.plot(sigmas,accuracy_list_random,marker='.',color = 'green',label=\" random chosing of centroids\")\n",
        "plt.plot(sigmas,accuracy_list_kmeans,marker='.', color = 'red',label=\"kmeans centroids \")\n",
        "\n",
        "plt.xlabel('sigma')\n",
        "plt.ylabel('Accuracy')\n",
        "plt.title('Test accuracy for all three parts together')\n",
        "plt.legend()\n",
        "plt.show"
      ],
      "execution_count": null,
      "outputs": [
        {
          "output_type": "execute_result",
          "data": {
            "text/plain": [
              "<function matplotlib.pyplot.show>"
            ]
          },
          "metadata": {
            "tags": []
          },
          "execution_count": 32
        },
        {
          "output_type": "display_data",
          "data": {
            "image/png": "[encoded data removed]",
            "text/plain": [
              "<Figure size 432x288 with 1 Axes>"
            ]
          },
          "metadata": {
            "tags": [],
            "needs_background": "light"
          }
        }
      ]
    }
  ]
}